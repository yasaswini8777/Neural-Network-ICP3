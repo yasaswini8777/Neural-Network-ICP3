{
 "cells": [
  {
   "cell_type": "code",
   "execution_count": 1,
   "id": "4915604c",
   "metadata": {},
   "outputs": [
    {
     "name": "stdout",
     "output_type": "stream",
     "text": [
      "Average Salary for Yasaswini Majety: $55000.00\n",
      "Average Salary for Sindhu Majety: $65000.00\n",
      "Total Number of Employees: 2\n"
     ]
    }
   ],
   "source": [
    "class Employee:\n",
    "    employee_count = 0\n",
    "\n",
    "    def __init__(self, name, family, salary, department):\n",
    "        self.name = name\n",
    "        self.family = family\n",
    "        self.salary = salary\n",
    "        self.department = department\n",
    "\n",
    "        Employee.employee_count += 1\n",
    "\n",
    "    def average_salary(self, *salaries):\n",
    "        total_salary = sum(salaries, self.salary)\n",
    "        average_salary = total_salary / (len(salaries) + 1)\n",
    "        return average_salary\n",
    "\n",
    "\n",
    "class FulltimeEmployee(Employee):\n",
    "\n",
    "    def __init__(self, name, family, salary, department, fulltime_property):\n",
    "        super().__init__(name, family, salary, department)\n",
    "\n",
    "        self.fulltime_property = fulltime_property\n",
    "\n",
    "\n",
    "employee1 = Employee(\"Yasaswini Majety\", \"Family1\", 50000, \"Finance Department\")\n",
    "employee2 = FulltimeEmployee(\"Sindhu Majety\", \"Family2\", 60000, \"IT Delivery\", \"Fulltime Property\")\n",
    "\n",
    "average_salary_employee1 = employee1.average_salary(55000, 60000)\n",
    "average_salary_employee2 = employee2.average_salary(65000, 70000)\n",
    "\n",
    "print(f\"Average Salary for {employee1.name}: ${average_salary_employee1:.2f}\")\n",
    "print(f\"Average Salary for {employee2.name}: ${average_salary_employee2:.2f}\")\n",
    "print(f\"Total Number of Employees: {Employee.employee_count}\")"
   ]
  },
  {
   "cell_type": "code",
   "execution_count": 2,
   "id": "37949da7",
   "metadata": {},
   "outputs": [
    {
     "name": "stdout",
     "output_type": "stream",
     "text": [
      "Original array:\n",
      "[ 2.38488052 17.12746892  0.          2.20820267 15.91806307  4.57622944\n",
      "  0.          7.00238789  5.80459462  6.54141499  0.          7.91191417\n",
      " 16.53174484  1.05726118  7.7310878   0.          9.25510301 12.38232492\n",
      "  3.1325486   7.39587181]\n",
      "\n",
      "Reshaped array:\n",
      "[[ 2.38488052 17.12746892  0.          2.20820267 15.91806307]\n",
      " [ 4.57622944  0.          7.00238789  5.80459462  6.54141499]\n",
      " [ 0.          7.91191417 16.53174484  1.05726118  7.7310878 ]\n",
      " [ 0.          9.25510301 12.38232492  3.1325486   7.39587181]]\n"
     ]
    }
   ],
   "source": [
    "import numpy as np\n",
    "\n",
    "random_vector = np.random.uniform(1, 20, 20)\n",
    "\n",
    "reshaped_array = random_vector.reshape(4, 5)\n",
    "\n",
    "reshaped_array[np.arange(len(reshaped_array)), reshaped_array.argmax(axis=1)] = 0\n",
    "\n",
    "print(\"Original array:\")\n",
    "print(random_vector)\n",
    "print(\"\\nReshaped array:\")\n",
    "print(reshaped_array)"
   ]
  },
  {
   "cell_type": "code",
   "execution_count": null,
   "id": "f65e7361",
   "metadata": {},
   "outputs": [],
   "source": []
  }
 ],
 "metadata": {
  "kernelspec": {
   "display_name": "Python 3 (ipykernel)",
   "language": "python",
   "name": "python3"
  },
  "language_info": {
   "codemirror_mode": {
    "name": "ipython",
    "version": 3
   },
   "file_extension": ".py",
   "mimetype": "text/x-python",
   "name": "python",
   "nbconvert_exporter": "python",
   "pygments_lexer": "ipython3",
   "version": "3.11.5"
  }
 },
 "nbformat": 4,
 "nbformat_minor": 5
}
